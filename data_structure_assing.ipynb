{
 "cells": [
  {
   "cell_type": "code",
   "execution_count": 1,
   "id": "55cb56e6-fecf-4a41-9ee0-6afd1dae7c4f",
   "metadata": {},
   "outputs": [],
   "source": [
    "# Q1. Discuss string slicing and provide examples.\n",
    "\n",
    "# Ans:String slicing allows you to obtain a substring from a given string by specifying a start and end index.\n"
   ]
  },
  {
   "cell_type": "code",
   "execution_count": 2,
   "id": "20b8408a-78d1-432d-9e25-2d0d4ea1097a",
   "metadata": {},
   "outputs": [
    {
     "name": "stdout",
     "output_type": "stream",
     "text": [
      "Hello\n",
      "World\n",
      "Hello\n",
      "World!\n",
      "World\n"
     ]
    }
   ],
   "source": [
    "# Ex1->\n",
    "# Example string\n",
    "s = \"hello, World!\"\n",
    "\n",
    "print(s[0:5])  # Output: Hello\n",
    "print(s[7:12]) # Output: World\n",
    "print(s[:5])   # Output: Hello (from start to index 4)\n",
    "print(s[7:])   # Output: World! (from index 7 to end)\n",
    "print(s[-6:-1]) # Output: World\n"
   ]
  },
  {
   "cell_type": "code",
   "execution_count": 3,
   "id": "aa864925-aafc-4745-895a-79b6a9e47098",
   "metadata": {},
   "outputs": [
    {
     "name": "stdout",
     "output_type": "stream",
     "text": [
      "Python\n",
      "Programming\n"
     ]
    }
   ],
   "source": [
    "# Ex2->\n",
    "# Example string\n",
    "s = \"PythonProgramming\"\n",
    "\n",
    "substring = s[0:6]\n",
    "print(substring)  # Output: Python\n",
    "\n",
    "substring = s[6:]\n",
    "print(substring)  # Output: Programming"
   ]
  },
  {
   "cell_type": "code",
   "execution_count": 4,
   "id": "3b7bc4e0-4ddf-43eb-ba42-1b3018c83d60",
   "metadata": {},
   "outputs": [],
   "source": [
    "# Q2. Explain the key features of lists in Python.\n",
    "\n",
    "# Ans:-->Ordered: Elements have a defined order.\n",
    "#     -->Mutable: Elements can be changed.\n",
    "#     -->Indexed: Elements can be accessed by their position.\n",
    "#     -->Dynamic: Size can be changed (elements can be added/removed).\n",
    "#     -->Heterogeneous: Can contain different data types."
   ]
  },
  {
   "cell_type": "code",
   "execution_count": 5,
   "id": "dc4d17b3-ecff-4c86-9eb3-2b80d47ad6e2",
   "metadata": {},
   "outputs": [],
   "source": [
    "# Q3. Describe how to access, modify, and delete elements in a list with examples.\n",
    "# Ans: Answer are given below"
   ]
  },
  {
   "cell_type": "code",
   "execution_count": 6,
   "id": "e14d2e15-7c18-4cc7-a12d-bf0e0d84d0e0",
   "metadata": {},
   "outputs": [
    {
     "name": "stdout",
     "output_type": "stream",
     "text": [
      "10\n",
      "20\n",
      "50\n"
     ]
    }
   ],
   "source": [
    "# Accessing Elements in a List-->\n",
    "# Elements in a list can be accessed using their index. The index starts from 0 for the first element and goes up \n",
    "# to n-1 for the last element, where n is the number of elements in the list. Negative indexing can also be used to \n",
    "# access elements from the end of the list, with -1 being the last element.\n",
    "\n",
    "# Ex1->\n",
    "lst = [10, 20, 30, 40, 50]\n",
    "\n",
    "# Accessing elements using positive indices\n",
    "first_element = lst[0]\n",
    "print(first_element)  # Output: 10\n",
    "\n",
    "second_element = lst[1]\n",
    "print(second_element)  # Output: 20\n",
    "\n",
    "# Accessing elements using negative indices\n",
    "last_element = lst[-1]\n",
    "print(last_element)  # Output: 50"
   ]
  },
  {
   "cell_type": "code",
   "execution_count": 7,
   "id": "e6b25bb2-ba90-4172-8e59-34b65d5267ab",
   "metadata": {},
   "outputs": [
    {
     "name": "stdout",
     "output_type": "stream",
     "text": [
      "[15, 20, 30, 40, 50]\n",
      "[15, 20, 35, 40, 50]\n"
     ]
    }
   ],
   "source": [
    "# Modifying Elements in a List-->\n",
    "# Elements in a list can be modified by assigning a new value to a specific index.\n",
    "\n",
    "# Ex2->\n",
    "lst = [10, 20, 30, 40, 50]\n",
    "\n",
    "# Modifying elements\n",
    "lst[0] = 15\n",
    "print(lst)  # Output: [15, 20, 30, 40, 50]\n",
    "\n",
    "lst[2] = 35\n",
    "print(lst)  # Output: [15, 20, 35, 40, 50]"
   ]
  },
  {
   "cell_type": "code",
   "execution_count": 9,
   "id": "24074624-3c60-4eb7-92e7-bd7b15d3741c",
   "metadata": {},
   "outputs": [
    {
     "name": "stdout",
     "output_type": "stream",
     "text": [
      "[10, 30, 40, 50]\n",
      "[10, 50]\n"
     ]
    }
   ],
   "source": [
    "# Deleting Elements in a List-->\n",
    "# Elements can be deleted from a list using the del statement, the remove() method, or the pop() method.\n",
    "\n",
    "# Example list\n",
    "lst = [10, 20, 30, 40, 50]\n",
    "\n",
    "# Deleting an element by index\n",
    "del lst[1]\n",
    "print(lst)  # Output: [10, 30, 40, 50]\n",
    "\n",
    "# Deleting a slice of elements\n",
    "del lst[1:3]\n",
    "print(lst)  # Output: [10, 50]\n",
    "\n",
    "# We can also remove the element from the list using remove() or pop() method in same way."
   ]
  },
  {
   "cell_type": "code",
   "execution_count": 10,
   "id": "eae530ea-32b6-4942-ae21-459dfb97dda1",
   "metadata": {},
   "outputs": [
    {
     "name": "stdout",
     "output_type": "stream",
     "text": [
      "[10, 2, 3]\n"
     ]
    }
   ],
   "source": [
    "# Ex->\n",
    "# List example->\n",
    "lst = [1, 2, 3]\n",
    "lst[0] = 10  # List can be modified\n",
    "print(lst)\n",
    "\n",
    "# Tuple example->\n",
    "tup = (1, 2, 3)\n",
    "# tup[0] = 10  # This will raise an error because tuples are immutable\n",
    "# print(tup)"
   ]
  },
  {
   "cell_type": "code",
   "execution_count": 11,
   "id": "2dbe38bc-d3ea-406c-bedf-f56a14ee2d35",
   "metadata": {},
   "outputs": [],
   "source": [
    "# Q5. Describe the key features of sets and provide examples of their use.\n",
    "\n",
    "# Ans:-->Ordered: Elements have a defined order.\n",
    "#     -->Mutable: Elements can be changed.\n",
    "#     -->Indexed: Elements can be accessed by their position.\n",
    "#     -->Dynamic: Size can be changed (elements can be added/removed).\n",
    "#     -->Heterogeneous: Can contain different data types."
   ]
  },
  {
   "cell_type": "code",
   "execution_count": 12,
   "id": "e08c342f-799e-4617-84d7-8a08b4acdfa3",
   "metadata": {},
   "outputs": [
    {
     "name": "stdout",
     "output_type": "stream",
     "text": [
      "{1, 2, 3}\n",
      "{1, 2, 3, 4}\n",
      "{1, 3, 4}\n"
     ]
    }
   ],
   "source": [
    "# Ex-->\n",
    "# Creating a set\n",
    "s = {1, 2, 3, 3}\n",
    "print(s)  # Output: {1, 2, 3} (duplicates are removed)\n",
    "\n",
    "# Adding elements\n",
    "s.add(4)\n",
    "print(s)  # Output: {1, 2, 3, 4}\n",
    "\n",
    "# Removing elements\n",
    "s.remove(2)\n",
    "print(s)  # Output: {1, 3, 4}\n"
   ]
  },
  {
   "cell_type": "code",
   "execution_count": 13,
   "id": "78a9db15-3796-4a2b-b1f7-7f43da4f402a",
   "metadata": {},
   "outputs": [],
   "source": [
    "# Q6. Discuss the use cases of tuples and sets in Python programming.\n",
    "\n",
    "# Ans:Tuples:\n",
    "#     Used for fixed collections of items.\n",
    "#     Useful for returning multiple values from a function.\n",
    "#     Suitable for keys in dictionaries.\n",
    "    \n",
    "#     Sets:\n",
    "#     Used for membership testing.\n",
    "#     Useful for removing duplicates from a collection.\n",
    "#     Suitable for mathematical operations like union, intersection."
   ]
  },
  {
   "cell_type": "code",
   "execution_count": 14,
   "id": "6e593b1b-2d33-479b-877d-b08117b60857",
   "metadata": {},
   "outputs": [],
   "source": [
    "# Q7. Describe how to add, modify, and delete items in a dictionary with examples.\n",
    "\n",
    "# Ans:Answer is given below->"
   ]
  },
  {
   "cell_type": "code",
   "execution_count": 15,
   "id": "bbd6b84e-ae23-4eb8-b469-4defadf692b0",
   "metadata": {},
   "outputs": [
    {
     "name": "stdout",
     "output_type": "stream",
     "text": [
      "{'a': 1, 'b': 2, 'c': 3}\n",
      "{'a': 1, 'b': 2, 'd': 4, 'e': 5}\n"
     ]
    }
   ],
   "source": [
    "# Adding Items to a Dictionary-->\n",
    "# To add an item to a dictionary, you can use a new key and assign a value to it.\n",
    "# Ex->\n",
    "d = {\"a\": 1, \"b\": 2}\n",
    "\n",
    "# Adding a new item\n",
    "d[\"c\"] = 3\n",
    "print(d)  # Output: {'a': 1, 'b': 2, 'c': 3}\n",
    "\n",
    "# ---You can also use the update() method to add multiple items at once.\n",
    "d = {\"a\": 1, \"b\": 2}\n",
    "\n",
    "# Adding multiple items\n",
    "d.update({\"d\": 4, \"e\": 5})\n",
    "print(d)  # Output: {'a': 1, 'b': 2, 'd': 4, 'e': 5}\n"
   ]
  },
  {
   "cell_type": "code",
   "execution_count": 16,
   "id": "cc0a1375-c533-46b5-803c-aaf59c6a3bc4",
   "metadata": {},
   "outputs": [
    {
     "name": "stdout",
     "output_type": "stream",
     "text": [
      "{'a': 10, 'b': 2, 'c': 3}\n",
      "{'a': 10, 'b': 20, 'c': 3}\n"
     ]
    }
   ],
   "source": [
    "# Modifying Items in a Dictionary-->\n",
    "# To modify an existing item, you can access it by its key and assign a new value to it.\n",
    "# Ex->\n",
    "d = {\"a\": 1, \"b\": 2, \"c\": 3}\n",
    "\n",
    "# Modifying an item\n",
    "d[\"a\"] = 10\n",
    "print(d)  # Output: {'a': 10, 'b': 2, 'c': 3}\n",
    "\n",
    "\n",
    "# ---You can also use the update() method to modify multiple items at once.\n",
    "d = {\"a\": 1, \"b\": 2, \"c\": 3}\n",
    "\n",
    "# Modifying multiple items\n",
    "d.update({\"a\": 10, \"b\": 20})\n",
    "print(d)  # Output: {'a': 10, 'b': 20, 'c': 3}\n"
   ]
  },
  {
   "cell_type": "code",
   "execution_count": 17,
   "id": "5a0685ae-1ffb-4756-bd52-b1209ddfda7c",
   "metadata": {},
   "outputs": [
    {
     "name": "stdout",
     "output_type": "stream",
     "text": [
      "{'a': 1, 'c': 3}\n",
      "3\n",
      "{'a': 1, 'b': 2}\n",
      "{}\n"
     ]
    }
   ],
   "source": [
    "# Deleting Items from a Dictionary-->\n",
    "# Using del Statement:\n",
    "# Deletes an item by its key.\n",
    "\n",
    "# Ex->\n",
    "d = {\"a\": 1, \"b\": 2, \"c\": 3}\n",
    "\n",
    "del d[\"b\"]\n",
    "print(d)  # Output: {'a': 1, 'c': 3}\n",
    "\n",
    "\n",
    "# ---Using pop() Method:\n",
    "# Removes an item by its key and returns its value.\n",
    "# Example dictionary\n",
    "d = {\"a\": 1, \"b\": 2, \"c\": 3}\n",
    "\n",
    "value = d.pop(\"c\")\n",
    "print(value)  # Output: 3\n",
    "print(d)      # Output: {'a': 1, 'b': 2}\n",
    "\n",
    "\n",
    "# ---Using clear() Method:\n",
    "# Removes all items from the dictionary.\n",
    "d = {\"a\": 1, \"b\": 2, \"c\": 3}\n",
    "\n",
    "d.clear()\n",
    "print(d)  # Output: {}\n"
   ]
  },
  {
   "cell_type": "code",
   "execution_count": 18,
   "id": "378ba904-4054-42ce-a779-c6ae395f7a0b",
   "metadata": {},
   "outputs": [
    {
     "name": "stdout",
     "output_type": "stream",
     "text": [
      "Alice\n"
     ]
    }
   ],
   "source": [
    "# Ex1->\n",
    "# Valid keys\n",
    "d = {\n",
    "    \"name\": \"Alice\",\n",
    "    42: \"Answer to the Ultimate Question\",\n",
    "    (1, 2): \"Tuple Key\"\n",
    "}\n",
    "\n",
    "# Invalid key (will raise TypeError)\n",
    "# d = {[1, 2]: \"List Key\"}  # Lists are mutable and thus cannot be used as keys\n",
    "\n",
    "\n",
    "# Ex2->\n",
    "# Dictionary with string keys\n",
    "d = {\"name\": \"Alice\", \"age\": 30}\n",
    "print(d[\"name\"])  # Output: Alice\n"
   ]
  },
  {
   "cell_type": "code",
   "execution_count": null,
   "id": "9676b33c-569d-44ac-ba77-4e8d44ddd06e",
   "metadata": {},
   "outputs": [],
   "source": []
  }
 ],
 "metadata": {
  "kernelspec": {
   "display_name": "Python 3 (ipykernel)",
   "language": "python",
   "name": "python3"
  },
  "language_info": {
   "codemirror_mode": {
    "name": "ipython",
    "version": 3
   },
   "file_extension": ".py",
   "mimetype": "text/x-python",
   "name": "python",
   "nbconvert_exporter": "python",
   "pygments_lexer": "ipython3",
   "version": "3.10.8"
  }
 },
 "nbformat": 4,
 "nbformat_minor": 5
}
